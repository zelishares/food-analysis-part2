{
 "cells": [
  {
   "cell_type": "code",
   "execution_count": 1,
   "id": "2b337caf",
   "metadata": {},
   "outputs": [],
   "source": [
    "import pandas as pd\n",
    "import requests\n",
    "import psycopg2\n",
    "import os\n",
    "import sqlalchemy\n",
    "import json\n",
    "import numpy as np"
   ]
  },
  {
   "cell_type": "code",
   "execution_count": 2,
   "id": "0a506aab",
   "metadata": {},
   "outputs": [],
   "source": [
    "# Database credentials\n",
    "ENDPOINT = 'datalaketwitter.c16p7bc6xhi2.us-east-1.rds.amazonaws.com'\n",
    "DB_NAME = 'datalakeTwitter'\n",
    "USERNAME = 'nadine'\n",
    "PASSWORD = '30101995'"
   ]
  },
  {
   "cell_type": "code",
   "execution_count": 3,
   "id": "cb682e92",
   "metadata": {},
   "outputs": [
    {
     "name": "stdout",
     "output_type": "stream",
     "text": [
      "host=datalaketwitter.c16p7bc6xhi2.us-east-1.rds.amazonaws.com dbname=datalakeTwitter user=nadine password=30101995\n"
     ]
    }
   ],
   "source": [
    "# connecting to the database\n",
    "try:\n",
    "    print(\"host={} dbname={} user={} password={}\".format(ENDPOINT, DB_NAME, USERNAME, PASSWORD))\n",
    "    conn = psycopg2.connect(\"host={} dbname={} user={} password={}\".format(ENDPOINT, DB_NAME, USERNAME, PASSWORD))\n",
    "    \n",
    "except psycopg2.Error as e:\n",
    "    print(\"Error: Could not make connection to the Postgres database\")\n",
    "    print(e)\n",
    "        \n",
    "try:\n",
    "    cur = conn.cursor()\n",
    "    engine = sqlalchemy.create_engine(\"postgresql://{}:{}@{}:5432/{}\".format(USERNAME,PASSWORD,ENDPOINT,DB_NAME))\n",
    "\n",
    "    \n",
    "except psycopg2.Error as e:\n",
    "    print(\"Error: Could not get curser to the Database\")\n",
    "    print(e)\n",
    "        \n",
    "# Create sqlalchemy engine\n",
    "engine = sqlalchemy.create_engine(\"postgresql://{}:{}@{}:5432/{}\".format(USERNAME,PASSWORD,ENDPOINT,DB_NAME))"
   ]
  },
  {
   "cell_type": "code",
   "execution_count": 4,
   "id": "07d37e12",
   "metadata": {},
   "outputs": [],
   "source": [
    "conn.set_session(autocommit=True)"
   ]
  },
  {
   "cell_type": "code",
   "execution_count": 5,
   "id": "1671d186",
   "metadata": {},
   "outputs": [],
   "source": [
    "#fetching data from datalake and save it as variable\n",
    "data_history = engine.execute('Select * FROM tasty_twitter_history_clean;').fetchall()"
   ]
  },
  {
   "cell_type": "code",
   "execution_count": 6,
   "id": "1439f42e",
   "metadata": {},
   "outputs": [],
   "source": [
    "#fetching data from datalake and save it as variable\n",
    "data = engine.execute('Select * FROM tasty_twitter_clean;').fetchall()"
   ]
  },
  {
   "cell_type": "code",
   "execution_count": 7,
   "id": "8782e4e9",
   "metadata": {},
   "outputs": [],
   "source": [
    "# putting the data into dataframes\n",
    "df_history= pd.DataFrame(data_history)\n",
    "df = pd.DataFrame(data)"
   ]
  },
  {
   "cell_type": "code",
   "execution_count": 8,
   "id": "a1cf7b38",
   "metadata": {},
   "outputs": [],
   "source": [
    "#close the connections\n",
    "conn.close()\n",
    "#engine.close()"
   ]
  },
  {
   "cell_type": "code",
   "execution_count": 9,
   "id": "0b1a5fe5",
   "metadata": {},
   "outputs": [],
   "source": [
    "frames = [df,df_history]"
   ]
  },
  {
   "cell_type": "code",
   "execution_count": 10,
   "id": "d6739250",
   "metadata": {},
   "outputs": [],
   "source": [
    "# combining the data in 1 dataframe\n",
    "df_full = df = pd.concat(frames, ignore_index=True)"
   ]
  },
  {
   "cell_type": "code",
   "execution_count": 11,
   "id": "f81456bb",
   "metadata": {},
   "outputs": [],
   "source": [
    "# adapting the format of the date\n",
    "df_full['created'] = pd.to_datetime(df_full.created)  "
   ]
  },
  {
   "cell_type": "code",
   "execution_count": 12,
   "id": "05fbb0e1",
   "metadata": {},
   "outputs": [],
   "source": [
    "# order the df by date\n",
    "df_full = df_full.sort_values(by = ['created']) "
   ]
  },
  {
   "cell_type": "code",
   "execution_count": 13,
   "id": "8f60e58b",
   "metadata": {},
   "outputs": [],
   "source": [
    "#### loading df into other db\n",
    "# Database credentials\n",
    "username = 'warehouse_admin' \n",
    "password = 'LiNaZe2022' \n",
    "ipaddress = 'data-warehouse.cw7uns4wqebw.us-east-1.rds.amazonaws.com' \n",
    "port = '5432' \n",
    "dbname = 'datawarehouse'"
   ]
  },
  {
   "cell_type": "code",
   "execution_count": 14,
   "id": "a3a49b42",
   "metadata": {},
   "outputs": [
    {
     "name": "stdout",
     "output_type": "stream",
     "text": [
      "host=data-warehouse.cw7uns4wqebw.us-east-1.rds.amazonaws.com dbname=datawarehouse user=warehouse_admin password=LiNaZe2022\n"
     ]
    }
   ],
   "source": [
    "# making a connection to the data warehouse\n",
    "try:\n",
    "    print(\"host={} dbname={} user={} password={}\".format(ipaddress, dbname, username, password))\n",
    "    conn = psycopg2.connect(\"host={} dbname={} user={} password={}\".format(ipaddress, dbname, username, password))\n",
    "    \n",
    "except psycopg2.Error as e:\n",
    "    print(\"Error: Could not make connection to the Postgres database\")\n",
    "    print(e)\n",
    "        \n",
    "try:\n",
    "    cur = conn.cursor()\n",
    "    engine = sqlalchemy.create_engine(\"postgresql://{}:{}@{}:5432/{}\".format(username,password,ipaddress,dbname))\n",
    "\n",
    "    \n",
    "except psycopg2.Error as e:\n",
    "    print(\"Error: Could not get curser to the Database\")\n",
    "    print(e)\n",
    "        \n",
    "# Create sqlalchemy engine\n",
    "engine = sqlalchemy.create_engine(\"postgresql://{}:{}@{}:5432/{}\".format(username,password,ipaddress,dbname))"
   ]
  },
  {
   "cell_type": "code",
   "execution_count": 16,
   "id": "77974a39",
   "metadata": {},
   "outputs": [],
   "source": [
    "#display(df_full)"
   ]
  },
  {
   "cell_type": "code",
   "execution_count": null,
   "id": "c5ecfc55",
   "metadata": {},
   "outputs": [],
   "source": [
    "# creating the table if not exists\n",
    "conn.set_session(autocommit=True)\n",
    "cur.execute(\"CREATE TABLE IF NOT EXISTS tasty_twitter_clean (tweet TEXT, created DATE, favorites INT, count INT, url_short TEXT, displayed_url TEXT, expanded_url TEXT, symbols TEXT, recipe_link CHAR, recipe_name TEXT);\")"
   ]
  },
  {
   "cell_type": "code",
   "execution_count": null,
   "id": "203f8642",
   "metadata": {},
   "outputs": [],
   "source": [
    "#adding the df into the database\n",
    "df_full.to_sql('tasty_twitter_clean', engine, if_exists = 'replace', index = False)"
   ]
  },
  {
   "cell_type": "code",
   "execution_count": 17,
   "id": "fd09e9fa",
   "metadata": {},
   "outputs": [],
   "source": [
    "#close the connections\n",
    "conn.close()\n",
    "#engine.close()"
   ]
  }
 ],
 "metadata": {
  "kernelspec": {
   "display_name": "Python 3 (ipykernel)",
   "language": "python",
   "name": "python3"
  },
  "language_info": {
   "codemirror_mode": {
    "name": "ipython",
    "version": 3
   },
   "file_extension": ".py",
   "mimetype": "text/x-python",
   "name": "python",
   "nbconvert_exporter": "python",
   "pygments_lexer": "ipython3",
   "version": "3.9.7"
  }
 },
 "nbformat": 4,
 "nbformat_minor": 5
}
