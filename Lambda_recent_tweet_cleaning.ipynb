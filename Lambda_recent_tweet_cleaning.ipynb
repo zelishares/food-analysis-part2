{
 "cells": [
  {
   "cell_type": "code",
   "execution_count": 1,
   "id": "f8ba09e5",
   "metadata": {},
   "outputs": [],
   "source": [
    "import pandas as pd\n",
    "import requests\n",
    "import psycopg2\n",
    "import os\n",
    "import sqlalchemy\n",
    "import json\n",
    "import numpy as np"
   ]
  },
  {
   "cell_type": "code",
   "execution_count": 2,
   "id": "fb777d26",
   "metadata": {},
   "outputs": [],
   "source": [
    "# Database credentials\n",
    "ENDPOINT = 'datalaketwitter.c16p7bc6xhi2.us-east-1.rds.amazonaws.com'\n",
    "DB_NAME = 'datalakeTwitter'\n",
    "USERNAME = 'nadine'\n",
    "PASSWORD = '30101995'"
   ]
  },
  {
   "cell_type": "code",
   "execution_count": 3,
   "id": "eebc55b8",
   "metadata": {},
   "outputs": [
    {
     "name": "stdout",
     "output_type": "stream",
     "text": [
      "host=datalaketwitter.c16p7bc6xhi2.us-east-1.rds.amazonaws.com dbname=datalakeTwitter user=nadine password=30101995\n"
     ]
    }
   ],
   "source": [
    "# connecting to the database\n",
    "try:\n",
    "    print(\"host={} dbname={} user={} password={}\".format(ENDPOINT, DB_NAME, USERNAME, PASSWORD))\n",
    "    conn = psycopg2.connect(\"host={} dbname={} user={} password={}\".format(ENDPOINT, DB_NAME, USERNAME, PASSWORD))\n",
    "    \n",
    "except psycopg2.Error as e:\n",
    "    print(\"Error: Could not make connection to the Postgres database\")\n",
    "    print(e)\n",
    "        \n",
    "try:\n",
    "    cur = conn.cursor()\n",
    "    engine = sqlalchemy.create_engine(\"postgresql://{}:{}@{}:5432/{}\".format(USERNAME,PASSWORD,ENDPOINT,DB_NAME))\n",
    "\n",
    "    \n",
    "except psycopg2.Error as e:\n",
    "    print(\"Error: Could not get curser to the Database\")\n",
    "    print(e)\n",
    "        \n",
    "# Create sqlalchemy engine\n",
    "engine = sqlalchemy.create_engine(\"postgresql://{}:{}@{}:5432/{}\".format(USERNAME,PASSWORD,ENDPOINT,DB_NAME))"
   ]
  },
  {
   "cell_type": "code",
   "execution_count": 4,
   "id": "0a7a41f8",
   "metadata": {},
   "outputs": [],
   "source": [
    "conn.set_session(autocommit=True)"
   ]
  },
  {
   "cell_type": "code",
   "execution_count": 5,
   "id": "10f6bd94",
   "metadata": {},
   "outputs": [],
   "source": [
    "#fetching data from datalake and save it as variable\n",
    "data = engine.execute('Select * FROM tasty_twitter;').fetchall()"
   ]
  },
  {
   "cell_type": "code",
   "execution_count": 6,
   "id": "cdad94aa",
   "metadata": {},
   "outputs": [],
   "source": [
    "#creating a pandas dataframe for further steps\n",
    "df = pd.DataFrame(data)"
   ]
  },
  {
   "cell_type": "code",
   "execution_count": 7,
   "id": "b949571f",
   "metadata": {},
   "outputs": [],
   "source": [
    "# creating new columns\n",
    "df['url_short'] = ''\n",
    "df['displayed_url'] = ''\n",
    "df['expanded_url'] = ''\n",
    "df['symbols'] = ''\n",
    "#df['hashtags'] = ''\n",
    "#df['user_mentions'] = ''"
   ]
  },
  {
   "cell_type": "code",
   "execution_count": 8,
   "id": "51ba4a60",
   "metadata": {},
   "outputs": [
    {
     "name": "stderr",
     "output_type": "stream",
     "text": [
      "C:\\Users\\nadin\\AppData\\Local\\Temp\\ipykernel_23840\\867637988.py:5: SettingWithCopyWarning: \n",
      "A value is trying to be set on a copy of a slice from a DataFrame\n",
      "\n",
      "See the caveats in the documentation: https://pandas.pydata.org/pandas-docs/stable/user_guide/indexing.html#returning-a-view-versus-a-copy\n",
      "  df['symbols'].iloc[i] = row.additional_information.get('symbols')\n",
      "C:\\Users\\nadin\\AppData\\Local\\Temp\\ipykernel_23840\\867637988.py:9: SettingWithCopyWarning: \n",
      "A value is trying to be set on a copy of a slice from a DataFrame\n",
      "\n",
      "See the caveats in the documentation: https://pandas.pydata.org/pandas-docs/stable/user_guide/indexing.html#returning-a-view-versus-a-copy\n",
      "  df['url_short'].iloc[i] = np.nan\n",
      "C:\\Users\\nadin\\AppData\\Local\\Temp\\ipykernel_23840\\867637988.py:10: SettingWithCopyWarning: \n",
      "A value is trying to be set on a copy of a slice from a DataFrame\n",
      "\n",
      "See the caveats in the documentation: https://pandas.pydata.org/pandas-docs/stable/user_guide/indexing.html#returning-a-view-versus-a-copy\n",
      "  df['displayed_url'].iloc[i] = np.nan\n",
      "C:\\Users\\nadin\\AppData\\Local\\Temp\\ipykernel_23840\\867637988.py:11: SettingWithCopyWarning: \n",
      "A value is trying to be set on a copy of a slice from a DataFrame\n",
      "\n",
      "See the caveats in the documentation: https://pandas.pydata.org/pandas-docs/stable/user_guide/indexing.html#returning-a-view-versus-a-copy\n",
      "  df['expanded_url'].iloc[i] = np.nan\n",
      "C:\\Users\\nadin\\AppData\\Local\\Temp\\ipykernel_23840\\867637988.py:14: SettingWithCopyWarning: \n",
      "A value is trying to be set on a copy of a slice from a DataFrame\n",
      "\n",
      "See the caveats in the documentation: https://pandas.pydata.org/pandas-docs/stable/user_guide/indexing.html#returning-a-view-versus-a-copy\n",
      "  df['url_short'].iloc[i]= url.get('url')\n",
      "C:\\Users\\nadin\\AppData\\Local\\Temp\\ipykernel_23840\\867637988.py:15: SettingWithCopyWarning: \n",
      "A value is trying to be set on a copy of a slice from a DataFrame\n",
      "\n",
      "See the caveats in the documentation: https://pandas.pydata.org/pandas-docs/stable/user_guide/indexing.html#returning-a-view-versus-a-copy\n",
      "  df['displayed_url'].iloc[i]= url.get('display_url')\n",
      "C:\\Users\\nadin\\AppData\\Local\\Temp\\ipykernel_23840\\867637988.py:16: SettingWithCopyWarning: \n",
      "A value is trying to be set on a copy of a slice from a DataFrame\n",
      "\n",
      "See the caveats in the documentation: https://pandas.pydata.org/pandas-docs/stable/user_guide/indexing.html#returning-a-view-versus-a-copy\n",
      "  df['expanded_url'].iloc[i]= url.get('expanded_url')\n"
     ]
    }
   ],
   "source": [
    "# fetch the link out of the additional_information and appends it to the newly created colums above\n",
    "for i, row in df.iterrows(): \n",
    "    urls = (row.additional_information.get('urls'))\n",
    "    #df['media'].iloc[i] = row.additional_information.get('media')\n",
    "    df['symbols'].iloc[i] = row.additional_information.get('symbols')\n",
    "    #df['hashtags'].iloc[i] = row.additional_information.get('hashtags')\n",
    "    #df['user_mentions'].iloc[i] = row.additional_information.get('user_mentions')\n",
    "    if not urls:\n",
    "        df['url_short'].iloc[i] = np.nan\n",
    "        df['displayed_url'].iloc[i] = np.nan\n",
    "        df['expanded_url'].iloc[i] = np.nan\n",
    "    else:\n",
    "        for url in urls:\n",
    "            df['url_short'].iloc[i]= url.get('url')\n",
    "            df['displayed_url'].iloc[i]= url.get('display_url')\n",
    "            df['expanded_url'].iloc[i]= url.get('expanded_url')"
   ]
  },
  {
   "cell_type": "code",
   "execution_count": 9,
   "id": "e4b73cf3",
   "metadata": {},
   "outputs": [],
   "source": [
    "# filling in empty values with na and dropping column additional_information\n",
    "df = df.fillna(value=np.nan)\n",
    "df = df.drop(['additional_information'], axis = 1)\n",
    "df.symbols = df.symbols.apply(lambda y: np.nan if len(y)==0 else y)\n",
    "#df.hashtags = df.hashtags.apply(lambda y: np.nan if len(y)==0 else y)\n",
    "#df.user_mentions = df.user_mentions.apply(lambda y: np.nan if len(y)==0 else y)\n",
    "#display(df)"
   ]
  },
  {
   "cell_type": "code",
   "execution_count": 10,
   "id": "8616f64e",
   "metadata": {},
   "outputs": [],
   "source": [
    "# in the following steps the recipe name is extraxted out of the link\n",
    "# first a column with 0 or 1 is created to indicate if the tweet has a recipe in it\n",
    "recipe_link_list = []\n",
    "\n",
    "for item in df['tweet']:\n",
    "    if 'Shop the recipe!' in item:\n",
    "        recipe_link_list.append(1)\n",
    "    else:\n",
    "        recipe_link_list.append(0)\n",
    "df['recipe_link'] = recipe_link_list"
   ]
  },
  {
   "cell_type": "code",
   "execution_count": 11,
   "id": "e4c4cc8e",
   "metadata": {},
   "outputs": [],
   "source": [
    "# the type is adapted and a sub dataframe is created for the furhter steps\n",
    "df['expanded_url'] = df['expanded_url'].astype(str)\n",
    "df_recipes_yes = df[df['recipe_link'] == 1]"
   ]
  },
  {
   "cell_type": "code",
   "execution_count": 12,
   "id": "d35ab5b4",
   "metadata": {},
   "outputs": [],
   "source": [
    "# the link is splited and joined to extract the recipe name which is then appended to a list\n",
    "recipe_name = []\n",
    "for recipe in df_recipes_yes['expanded_url']:\n",
    "    test = recipe.split('/')\n",
    "    if len(test) >= 4:\n",
    "        test_split= test[4].split('-')\n",
    "        test = \" \".join(test_split)\n",
    "        recipe_name.append(test)"
   ]
  },
  {
   "cell_type": "code",
   "execution_count": 13,
   "id": "3af40c88",
   "metadata": {},
   "outputs": [],
   "source": [
    "# out of the recipe name an iterater is generated to append the recipe name to the rows that have a recipe\n",
    "iter_recipe_name = iter(recipe_name)\n",
    "df_recipe_name = []\n",
    "\n",
    "for element in df['recipe_link']:\n",
    "    if element == 1:\n",
    "        df_recipe_name.append(next(iter_recipe_name))\n",
    "    else:\n",
    "        df_recipe_name.append(np.nan)"
   ]
  },
  {
   "cell_type": "code",
   "execution_count": 14,
   "id": "35263b70",
   "metadata": {},
   "outputs": [],
   "source": [
    "# the created list is then appended to the dataframe\n",
    "df['recipe_name'] = df_recipe_name"
   ]
  },
  {
   "cell_type": "code",
   "execution_count": 16,
   "id": "cf376147",
   "metadata": {},
   "outputs": [],
   "source": [
    "#display(df)"
   ]
  },
  {
   "cell_type": "code",
   "execution_count": 18,
   "id": "f7d8802b",
   "metadata": {},
   "outputs": [],
   "source": [
    "conn.set_session(autocommit=True)\n",
    "cur.execute(\"CREATE TABLE IF NOT EXISTS tasty_twitter_clean (tweet TEXT, created DATE, favorites INT, count INT, url_short TEXT, displayed_url TEXT, expanded_url TEXT, symbols TEXT, recipe_link CHAR, recipe_name TEXT);\")"
   ]
  },
  {
   "cell_type": "code",
   "execution_count": 19,
   "id": "f2a333dc",
   "metadata": {},
   "outputs": [
    {
     "data": {
      "text/plain": [
       "200"
      ]
     },
     "execution_count": 19,
     "metadata": {},
     "output_type": "execute_result"
    }
   ],
   "source": [
    "#adding the df into the database\n",
    "df.to_sql('tasty_twitter_clean', engine, if_exists = 'replace', index = False)"
   ]
  },
  {
   "cell_type": "code",
   "execution_count": 21,
   "id": "4b25ced9",
   "metadata": {},
   "outputs": [],
   "source": [
    "#close the connections\n",
    "conn.close()\n",
    "#engine.close()"
   ]
  },
  {
   "cell_type": "code",
   "execution_count": null,
   "id": "057fb1dc",
   "metadata": {},
   "outputs": [],
   "source": []
  }
 ],
 "metadata": {
  "kernelspec": {
   "display_name": "Python 3 (ipykernel)",
   "language": "python",
   "name": "python3"
  },
  "language_info": {
   "codemirror_mode": {
    "name": "ipython",
    "version": 3
   },
   "file_extension": ".py",
   "mimetype": "text/x-python",
   "name": "python",
   "nbconvert_exporter": "python",
   "pygments_lexer": "ipython3",
   "version": "3.9.7"
  }
 },
 "nbformat": 4,
 "nbformat_minor": 5
}
